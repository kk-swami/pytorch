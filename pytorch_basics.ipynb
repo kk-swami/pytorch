{
 "cells": [
  {
   "cell_type": "code",
   "execution_count": 43,
   "id": "d51944f3-82f4-4dd5-a6e5-c52762659907",
   "metadata": {},
   "outputs": [],
   "source": [
    "import torch\n",
    "import numpy as np\n",
    "import pandas"
   ]
  },
  {
   "cell_type": "markdown",
   "id": "518836ea-f3f3-4145-8351-0d9dbe4355fe",
   "metadata": {},
   "source": [
    "### initializing an empty torch tensor"
   ]
  },
  {
   "cell_type": "code",
   "execution_count": 16,
   "id": "617b1b9e-433b-4f31-8221-40aa150016bf",
   "metadata": {},
   "outputs": [],
   "source": [
    "x = torch.empty(4, 2,2,3) ## arguments are the tensor dimension"
   ]
  },
  {
   "cell_type": "markdown",
   "id": "05953112-bf03-4cf7-9448-ba9d22a25f0d",
   "metadata": {},
   "source": [
    "### initialize a random tensor"
   ]
  },
  {
   "cell_type": "code",
   "execution_count": 19,
   "id": "87dd4446-cd61-4b52-ae9d-9a17bce877a7",
   "metadata": {},
   "outputs": [],
   "source": [
    "x = torch.rand(2,2)"
   ]
  },
  {
   "cell_type": "code",
   "execution_count": 20,
   "id": "254cb528-21cf-401f-8640-52a757d20e94",
   "metadata": {},
   "outputs": [
    {
     "name": "stdout",
     "output_type": "stream",
     "text": [
      "tensor([[0.2591, 0.7126],\n",
      "        [0.6716, 0.5303]])\n"
     ]
    }
   ],
   "source": [
    "print(x)"
   ]
  },
  {
   "cell_type": "markdown",
   "id": "196d9443-7a1a-4b0b-90e0-5b832fed9c2b",
   "metadata": {},
   "source": [
    "### initialize a tensor with zeros or ones"
   ]
  },
  {
   "cell_type": "code",
   "execution_count": 22,
   "id": "a5a1e8dc-97e9-4f17-951f-6716a076e04e",
   "metadata": {},
   "outputs": [],
   "source": [
    "x = torch.zeros(2,2)"
   ]
  },
  {
   "cell_type": "code",
   "execution_count": 27,
   "id": "f8c0d0e4-8f39-44f0-8a7f-2b85b59fd981",
   "metadata": {},
   "outputs": [],
   "source": [
    "y = torch.ones(2,2)"
   ]
  },
  {
   "cell_type": "code",
   "execution_count": 29,
   "id": "0ec22308-376b-4635-92af-27f588287daf",
   "metadata": {},
   "outputs": [
    {
     "data": {
      "text/plain": [
       "torch.float32"
      ]
     },
     "execution_count": 29,
     "metadata": {},
     "output_type": "execute_result"
    }
   ],
   "source": [
    "x.dtype"
   ]
  },
  {
   "cell_type": "code",
   "execution_count": 33,
   "id": "81ae48ce-8ff6-4587-a0b8-d461eb1c2231",
   "metadata": {},
   "outputs": [],
   "source": [
    "x1 = torch.ones(2,2, dtype=torch.float16)\n",
    "x2 = torch.ones(2,2, dtype=torch.double)\n",
    "x3 = torch.ones(2,2, dtype=torch.int)"
   ]
  },
  {
   "cell_type": "markdown",
   "id": "7ec27260-ca36-4bbe-ba6c-29036c484a2f",
   "metadata": {},
   "source": [
    "### create an arbitrary tensor"
   ]
  },
  {
   "cell_type": "code",
   "execution_count": 52,
   "id": "65376783-4bed-4edd-b2ad-e801e6403ea1",
   "metadata": {},
   "outputs": [],
   "source": [
    "x = torch.tensor(np.array([1,2,3,4]), dtype=torch.float32)"
   ]
  },
  {
   "cell_type": "code",
   "execution_count": 53,
   "id": "c0b1e12b-8489-4a7e-ad52-c6c5df2650f1",
   "metadata": {},
   "outputs": [
    {
     "data": {
      "text/plain": [
       "torch.float32"
      ]
     },
     "execution_count": 53,
     "metadata": {},
     "output_type": "execute_result"
    }
   ],
   "source": [
    "x.dtype"
   ]
  },
  {
   "cell_type": "markdown",
   "id": "01a5e6b6-bb8e-4209-a410-8d8b8757c973",
   "metadata": {},
   "source": [
    "## tensor operations"
   ]
  },
  {
   "cell_type": "markdown",
   "id": "d993bbba-875c-46af-839e-85b31ce1140a",
   "metadata": {},
   "source": [
    "### addition"
   ]
  },
  {
   "cell_type": "code",
   "execution_count": 63,
   "id": "976abde0-5778-4bd4-9c72-aa6ba4fd5b36",
   "metadata": {},
   "outputs": [],
   "source": [
    "x = torch.rand(2,2)\n",
    "y = torch.rand(2,2)"
   ]
  },
  {
   "cell_type": "code",
   "execution_count": 64,
   "id": "911ad0b9-b2d9-443c-9bca-00bbe288cc8a",
   "metadata": {},
   "outputs": [],
   "source": [
    "z =  x + y"
   ]
  },
  {
   "cell_type": "code",
   "execution_count": 67,
   "id": "814950c0-f0a2-4ff2-89a3-68e4b32a5df2",
   "metadata": {},
   "outputs": [],
   "source": [
    "z = torch.add(x,y)"
   ]
  },
  {
   "cell_type": "code",
   "execution_count": 68,
   "id": "4950c7c1-a704-4e52-a697-3b3f7801bad3",
   "metadata": {},
   "outputs": [],
   "source": [
    "## in place addition. In general , inplace methods have _"
   ]
  },
  {
   "cell_type": "code",
   "execution_count": 70,
   "id": "2ae0c2ab-d47e-4bf1-98aa-1595d5c7f40e",
   "metadata": {},
   "outputs": [
    {
     "data": {
      "text/plain": [
       "tensor([[1.0529, 1.3603],\n",
       "        [1.0493, 1.3726]])"
      ]
     },
     "execution_count": 70,
     "metadata": {},
     "output_type": "execute_result"
    }
   ],
   "source": [
    "y.add_(x)"
   ]
  },
  {
   "cell_type": "code",
   "execution_count": 71,
   "id": "6d6b3dc9-15eb-4110-bcf6-14c12573c0f8",
   "metadata": {},
   "outputs": [
    {
     "data": {
      "text/plain": [
       "tensor([[1.0529, 1.3603],\n",
       "        [1.0493, 1.3726]])"
      ]
     },
     "execution_count": 71,
     "metadata": {},
     "output_type": "execute_result"
    }
   ],
   "source": [
    "y"
   ]
  },
  {
   "cell_type": "markdown",
   "id": "f4122e47-2321-414e-bfb6-bd2c01995cc5",
   "metadata": {},
   "source": [
    "### subtraction"
   ]
  },
  {
   "cell_type": "code",
   "execution_count": 73,
   "id": "9d3fc041-b211-4c68-90f6-3af6d9fc3697",
   "metadata": {},
   "outputs": [],
   "source": [
    "z = x - y"
   ]
  },
  {
   "cell_type": "code",
   "execution_count": 74,
   "id": "c85ff24d-985e-4fbd-a3be-16f38afaefb2",
   "metadata": {},
   "outputs": [],
   "source": [
    "z = torch.sub(x,y)"
   ]
  },
  {
   "cell_type": "code",
   "execution_count": 75,
   "id": "274f7c7c-05b8-4b0a-8e1c-200a2b1953d9",
   "metadata": {},
   "outputs": [
    {
     "data": {
      "text/plain": [
       "tensor([[0.7638, 0.5803],\n",
       "        [0.4593, 0.5971]])"
      ]
     },
     "execution_count": 75,
     "metadata": {},
     "output_type": "execute_result"
    }
   ],
   "source": [
    "y.sub_(x)"
   ]
  },
  {
   "cell_type": "markdown",
   "id": "8a4326a0-dd0b-4e08-83e9-49bf256c4f0c",
   "metadata": {},
   "source": [
    "### multiplication (element wise)"
   ]
  },
  {
   "cell_type": "code",
   "execution_count": 77,
   "id": "43cd7907-2979-428d-b64a-7c2212d6e0cd",
   "metadata": {},
   "outputs": [],
   "source": [
    "z = x*y"
   ]
  },
  {
   "cell_type": "code",
   "execution_count": 78,
   "id": "80800cb1-dcd4-426d-8acb-99e07fe6671a",
   "metadata": {},
   "outputs": [],
   "source": [
    "z = torch.mul(x,y)"
   ]
  },
  {
   "cell_type": "code",
   "execution_count": 79,
   "id": "b419fead-48c6-4507-b47d-99314084ce14",
   "metadata": {},
   "outputs": [
    {
     "data": {
      "text/plain": [
       "tensor([[0.2209, 0.4526],\n",
       "        [0.2710, 0.4631]])"
      ]
     },
     "execution_count": 79,
     "metadata": {},
     "output_type": "execute_result"
    }
   ],
   "source": [
    "y.mul_(x)"
   ]
  },
  {
   "cell_type": "code",
   "execution_count": 80,
   "id": "d256ccb9-2886-4e0e-9b06-4ec97d0dcb79",
   "metadata": {},
   "outputs": [
    {
     "data": {
      "text/plain": [
       "tensor([[0.2209, 0.4526],\n",
       "        [0.2710, 0.4631]])"
      ]
     },
     "execution_count": 80,
     "metadata": {},
     "output_type": "execute_result"
    }
   ],
   "source": [
    "z"
   ]
  },
  {
   "cell_type": "markdown",
   "id": "50e99f69-b413-44b4-85bf-8141916412d5",
   "metadata": {},
   "source": [
    "### division (element wise)"
   ]
  },
  {
   "cell_type": "code",
   "execution_count": 82,
   "id": "bc70e938-7826-4872-874f-687dec94e78c",
   "metadata": {},
   "outputs": [],
   "source": [
    "z = x/y"
   ]
  },
  {
   "cell_type": "code",
   "execution_count": 83,
   "id": "a4d03569-6dac-4988-ac1f-d0e2c0cfeff1",
   "metadata": {},
   "outputs": [],
   "source": [
    "z = torch.div(x,y)"
   ]
  },
  {
   "cell_type": "code",
   "execution_count": 84,
   "id": "ba5de9ee-1200-4234-8496-4feefb127d3d",
   "metadata": {},
   "outputs": [
    {
     "data": {
      "text/plain": [
       "tensor([[0.7638, 0.5803],\n",
       "        [0.4593, 0.5971]])"
      ]
     },
     "execution_count": 84,
     "metadata": {},
     "output_type": "execute_result"
    }
   ],
   "source": [
    "y.div_(x)"
   ]
  },
  {
   "cell_type": "markdown",
   "id": "1254b151-3cb8-4962-9e5d-ef26018ab471",
   "metadata": {},
   "source": [
    "## slices"
   ]
  },
  {
   "cell_type": "code",
   "execution_count": 86,
   "id": "1d672eca-c753-4576-af54-19de5d9e1eaa",
   "metadata": {},
   "outputs": [],
   "source": [
    "x = torch.rand(5,3)"
   ]
  },
  {
   "cell_type": "code",
   "execution_count": 93,
   "id": "d293cd13-83fd-4b87-9441-21543e631a16",
   "metadata": {},
   "outputs": [
    {
     "data": {
      "text/plain": [
       "torch.Size([2])"
      ]
     },
     "execution_count": 93,
     "metadata": {},
     "output_type": "execute_result"
    }
   ],
   "source": [
    "(x[1,0:2]).shape"
   ]
  },
  {
   "cell_type": "markdown",
   "id": "9598aa99-e4cb-4d77-bff1-48be845afbbe",
   "metadata": {},
   "source": [
    "### to get a single value, use item"
   ]
  },
  {
   "cell_type": "code",
   "execution_count": 96,
   "id": "41b900fa-7f4a-4ba2-9741-2a09548e55ea",
   "metadata": {},
   "outputs": [
    {
     "data": {
      "text/plain": [
       "0.9592262506484985"
      ]
     },
     "execution_count": 96,
     "metadata": {},
     "output_type": "execute_result"
    }
   ],
   "source": [
    "x[0,0].item()"
   ]
  },
  {
   "cell_type": "markdown",
   "id": "00a247f2-303d-42d8-a7a7-78323cfd81b5",
   "metadata": {},
   "source": [
    "## reshaping a tensor, use view"
   ]
  },
  {
   "cell_type": "code",
   "execution_count": 98,
   "id": "d2a2eaef-0b93-4f82-8b88-05a0be9149a9",
   "metadata": {},
   "outputs": [],
   "source": [
    "x = torch.rand(4,4)"
   ]
  },
  {
   "cell_type": "code",
   "execution_count": 100,
   "id": "1ac5d2cd-a218-41c4-97e0-ea3f90b62254",
   "metadata": {},
   "outputs": [
    {
     "data": {
      "text/plain": [
       "tensor([[0.4919, 0.1724, 0.0352, 0.2832],\n",
       "        [0.4719, 0.0417, 0.3032, 0.2878],\n",
       "        [0.4261, 0.4662, 0.3530, 0.2121],\n",
       "        [0.2219, 0.2053, 0.0251, 0.7438]])"
      ]
     },
     "execution_count": 100,
     "metadata": {},
     "output_type": "execute_result"
    }
   ],
   "source": [
    "x"
   ]
  },
  {
   "cell_type": "code",
   "execution_count": 105,
   "id": "44f8478e-2150-4afe-adc4-ffbf3d70367a",
   "metadata": {},
   "outputs": [
    {
     "data": {
      "text/plain": [
       "torch.Size([16])"
      ]
     },
     "execution_count": 105,
     "metadata": {},
     "output_type": "execute_result"
    }
   ],
   "source": [
    "x.view(16).shape"
   ]
  },
  {
   "cell_type": "markdown",
   "id": "8b34fb05-9291-4d8f-8b98-3a4787f46e07",
   "metadata": {},
   "source": [
    "#### you don't need to specify both dimensions, specify one dimension, and put -1, pytorch automatically figures other dimension out\n"
   ]
  },
  {
   "cell_type": "code",
   "execution_count": 106,
   "id": "64aa2296-3253-4497-8dab-35232c7143f0",
   "metadata": {},
   "outputs": [
    {
     "data": {
      "text/plain": [
       "tensor([[0.4919, 0.1724],\n",
       "        [0.0352, 0.2832],\n",
       "        [0.4719, 0.0417],\n",
       "        [0.3032, 0.2878],\n",
       "        [0.4261, 0.4662],\n",
       "        [0.3530, 0.2121],\n",
       "        [0.2219, 0.2053],\n",
       "        [0.0251, 0.7438]])"
      ]
     },
     "execution_count": 106,
     "metadata": {},
     "output_type": "execute_result"
    }
   ],
   "source": [
    "x.view(8,-1)"
   ]
  },
  {
   "cell_type": "code",
   "execution_count": 107,
   "id": "f4ca7f46-4b9a-485b-a2fb-a0f85bf608e0",
   "metadata": {},
   "outputs": [
    {
     "ename": "RuntimeError",
     "evalue": "shape '[7, -1]' is invalid for input of size 16",
     "output_type": "error",
     "traceback": [
      "\u001b[1;31m---------------------------------------------------------------------------\u001b[0m",
      "\u001b[1;31mRuntimeError\u001b[0m                              Traceback (most recent call last)",
      "\u001b[1;32m~\\AppData\\Local\\Temp\\ipykernel_4088\\574025790.py\u001b[0m in \u001b[0;36m<module>\u001b[1;34m\u001b[0m\n\u001b[1;32m----> 1\u001b[1;33m \u001b[0mx\u001b[0m\u001b[1;33m.\u001b[0m\u001b[0mview\u001b[0m\u001b[1;33m(\u001b[0m\u001b[1;36m7\u001b[0m\u001b[1;33m,\u001b[0m\u001b[1;33m-\u001b[0m\u001b[1;36m1\u001b[0m\u001b[1;33m)\u001b[0m\u001b[1;33m\u001b[0m\u001b[1;33m\u001b[0m\u001b[0m\n\u001b[0m",
      "\u001b[1;31mRuntimeError\u001b[0m: shape '[7, -1]' is invalid for input of size 16"
     ]
    }
   ],
   "source": [
    "x.view(7,-1)"
   ]
  },
  {
   "cell_type": "markdown",
   "id": "f9f6ef53-2b78-4ded-acc3-6fefc642f986",
   "metadata": {},
   "source": [
    "## numpy to torch and vice versa"
   ]
  },
  {
   "cell_type": "code",
   "execution_count": 109,
   "id": "84afdf26-03e8-4da9-8e38-0c18b129a4c4",
   "metadata": {},
   "outputs": [],
   "source": [
    "a = torch.ones(5)"
   ]
  },
  {
   "cell_type": "code",
   "execution_count": 111,
   "id": "dc17bbdf-662f-45b6-94ef-43182b71965b",
   "metadata": {},
   "outputs": [],
   "source": [
    "b = a.numpy()"
   ]
  },
  {
   "cell_type": "code",
   "execution_count": 112,
   "id": "425fe706-e48c-4719-955a-53212052fd07",
   "metadata": {},
   "outputs": [
    {
     "name": "stdout",
     "output_type": "stream",
     "text": [
      "[1. 1. 1. 1. 1.]\n"
     ]
    }
   ],
   "source": [
    "print(b)"
   ]
  },
  {
   "cell_type": "code",
   "execution_count": 116,
   "id": "bcbc1711-01c0-4a80-a297-3a3fb34ab800",
   "metadata": {},
   "outputs": [
    {
     "data": {
      "text/plain": [
       "torch.dtype"
      ]
     },
     "execution_count": 116,
     "metadata": {},
     "output_type": "execute_result"
    }
   ],
   "source": [
    "type(a.dtype)"
   ]
  },
  {
   "cell_type": "code",
   "execution_count": 117,
   "id": "dea393bb-8e6d-43f8-9697-55d759b1e8ab",
   "metadata": {},
   "outputs": [],
   "source": [
    "## Note that both share same memory location"
   ]
  },
  {
   "cell_type": "code",
   "execution_count": 118,
   "id": "28ce7cfe-f702-4151-ada0-cc2589cbc0b1",
   "metadata": {},
   "outputs": [
    {
     "data": {
      "text/plain": [
       "tensor([2., 2., 2., 2., 2.])"
      ]
     },
     "execution_count": 118,
     "metadata": {},
     "output_type": "execute_result"
    }
   ],
   "source": [
    "a.add_(1)"
   ]
  },
  {
   "cell_type": "code",
   "execution_count": 119,
   "id": "279174ba-f36b-4137-a38f-ea5c3c1d8ad9",
   "metadata": {},
   "outputs": [
    {
     "data": {
      "text/plain": [
       "tensor([2., 2., 2., 2., 2.])"
      ]
     },
     "execution_count": 119,
     "metadata": {},
     "output_type": "execute_result"
    }
   ],
   "source": [
    "a"
   ]
  },
  {
   "cell_type": "code",
   "execution_count": 120,
   "id": "acd66fdb-31db-4687-8409-9569c1260f59",
   "metadata": {},
   "outputs": [
    {
     "data": {
      "text/plain": [
       "array([2., 2., 2., 2., 2.], dtype=float32)"
      ]
     },
     "execution_count": 120,
     "metadata": {},
     "output_type": "execute_result"
    }
   ],
   "source": [
    "b"
   ]
  },
  {
   "cell_type": "code",
   "execution_count": 121,
   "id": "9ca0d373-3832-40a0-b4fc-046b4b6ccc53",
   "metadata": {},
   "outputs": [],
   "source": [
    "## numpy to torch"
   ]
  },
  {
   "cell_type": "code",
   "execution_count": 122,
   "id": "5977b14f-1b53-4b42-9b10-bc9cbd163f17",
   "metadata": {},
   "outputs": [],
   "source": [
    "a = np.ones(5)"
   ]
  },
  {
   "cell_type": "code",
   "execution_count": 123,
   "id": "ddd27b10-d988-4d91-8994-bff989a7469b",
   "metadata": {},
   "outputs": [
    {
     "data": {
      "text/plain": [
       "array([1., 1., 1., 1., 1.])"
      ]
     },
     "execution_count": 123,
     "metadata": {},
     "output_type": "execute_result"
    }
   ],
   "source": [
    "a"
   ]
  },
  {
   "cell_type": "code",
   "execution_count": 124,
   "id": "ff619b7a-6806-4e02-9b47-f47a54ef6353",
   "metadata": {},
   "outputs": [],
   "source": [
    "b = torch.from_numpy(a)"
   ]
  },
  {
   "cell_type": "code",
   "execution_count": 125,
   "id": "2698d28c-6e43-4ea4-8196-b26d092ab0fa",
   "metadata": {},
   "outputs": [
    {
     "data": {
      "text/plain": [
       "tensor([1., 1., 1., 1., 1.], dtype=torch.float64)"
      ]
     },
     "execution_count": 125,
     "metadata": {},
     "output_type": "execute_result"
    }
   ],
   "source": [
    "b"
   ]
  },
  {
   "cell_type": "code",
   "execution_count": 127,
   "id": "fb9dfbe7-44b4-4390-8fbe-490ccd3c5b33",
   "metadata": {},
   "outputs": [],
   "source": [
    "a[0] = 5"
   ]
  },
  {
   "cell_type": "code",
   "execution_count": 128,
   "id": "9b8ab356-a6a0-44f8-9e27-73bcfb36ada9",
   "metadata": {},
   "outputs": [
    {
     "data": {
      "text/plain": [
       "array([5., 1., 1., 1., 1.])"
      ]
     },
     "execution_count": 128,
     "metadata": {},
     "output_type": "execute_result"
    }
   ],
   "source": [
    "a"
   ]
  },
  {
   "cell_type": "code",
   "execution_count": 129,
   "id": "d7de85f8-da48-43d2-b616-f1dfa945c385",
   "metadata": {},
   "outputs": [
    {
     "name": "stdout",
     "output_type": "stream",
     "text": [
      "tensor([5., 1., 1., 1., 1.], dtype=torch.float64)\n"
     ]
    }
   ],
   "source": [
    "print(b)"
   ]
  },
  {
   "cell_type": "code",
   "execution_count": 130,
   "id": "fb732428-037b-465a-b3da-5c1a19f1221a",
   "metadata": {},
   "outputs": [
    {
     "data": {
      "text/plain": [
       "False"
      ]
     },
     "execution_count": 130,
     "metadata": {},
     "output_type": "execute_result"
    }
   ],
   "source": [
    "torch.cuda.is_available()"
   ]
  },
  {
   "cell_type": "code",
   "execution_count": 131,
   "id": "d113840c-8650-4db4-accd-2d4e8d6d1c42",
   "metadata": {},
   "outputs": [],
   "source": [
    "## note that if gpu is available, numpy is not present on gpu\n",
    "## so you have to do device carefully"
   ]
  },
  {
   "cell_type": "code",
   "execution_count": null,
   "id": "b4d4b007-a8fc-42d2-8fe8-0ba42dd21260",
   "metadata": {},
   "outputs": [],
   "source": [
    "if torch.cuda.is_available():\n",
    "    device = torch.device(\"cuda\")\n",
    "    x = torch.ones(5, device=device) ## creates x on gpu. You can either use this format or format below\n",
    "    y = torch.ones(5)\n",
    "    y = y.to(device)\n",
    "    z = x + y ## z now resides on gpu\n",
    "    ## can't to z.numpy() as numpy doesn't work on gpu\n",
    "    z = z.to(\"cpu\").numpy() ## first port to cpu and then do numpy\n",
    "    "
   ]
  },
  {
   "cell_type": "markdown",
   "id": "f2e2cb06-aa77-4dae-a3a5-5099726f7577",
   "metadata": {},
   "source": [
    "## If you want to take grad on tensor, you have to use requires_grad = True"
   ]
  },
  {
   "cell_type": "code",
   "execution_count": 132,
   "id": "ca4653ea-0105-4f72-bcb5-44e241df9640",
   "metadata": {},
   "outputs": [],
   "source": [
    "x = torch.ones(5,2, requires_grad=True)"
   ]
  },
  {
   "cell_type": "code",
   "execution_count": null,
   "id": "1d9cc029-4b7a-4e35-8151-98159b0410f8",
   "metadata": {},
   "outputs": [],
   "source": []
  },
  {
   "cell_type": "markdown",
   "id": "0520d505-b176-4261-9841-b1d4eed93e2b",
   "metadata": {},
   "source": [
    "## References\n"
   ]
  },
  {
   "cell_type": "raw",
   "id": "fa613373-f0c4-4f58-b385-c8040bfbee18",
   "metadata": {},
   "source": [
    "1) https://www.youtube.com/watch?v=exaWOE8jvy8&list=PLqnslRFeH2UrcDBWF5mfPGpqQDSta6VK4&index=2"
   ]
  }
 ],
 "metadata": {
  "kernelspec": {
   "display_name": "Python 3 (ipykernel)",
   "language": "python",
   "name": "python3"
  },
  "language_info": {
   "codemirror_mode": {
    "name": "ipython",
    "version": 3
   },
   "file_extension": ".py",
   "mimetype": "text/x-python",
   "name": "python",
   "nbconvert_exporter": "python",
   "pygments_lexer": "ipython3",
   "version": "3.9.13"
  }
 },
 "nbformat": 4,
 "nbformat_minor": 5
}
