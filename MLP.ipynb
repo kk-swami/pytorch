{
 "cells": [
  {
   "cell_type": "markdown",
   "id": "3399c3d7-4746-497a-b9d8-eeb41b89b3ec",
   "metadata": {},
   "source": [
    "## Building a Feed forward NN on images (MNIST image classification)"
   ]
  },
  {
   "cell_type": "code",
   "execution_count": 1,
   "id": "a8278dc8-7495-4025-8eeb-0a38140d6d6e",
   "metadata": {},
   "outputs": [],
   "source": [
    "import torch\n",
    "import torch.nn as nn\n",
    "import torchvision\n",
    "import matplotlib.pyplot as plt\n",
    "import torchvision.transforms as transforms"
   ]
  },
  {
   "cell_type": "code",
   "execution_count": null,
   "id": "b2497e9b-8616-4498-a0c1-9a66baa5d5c6",
   "metadata": {},
   "outputs": [],
   "source": [
    "## device config"
   ]
  },
  {
   "cell_type": "code",
   "execution_count": 2,
   "id": "0017e0ac-b92d-449e-b329-956a4f23120b",
   "metadata": {},
   "outputs": [],
   "source": [
    "device = torch.device('cuda' if torch.cuda.is_available() else 'cpu')"
   ]
  },
  {
   "cell_type": "code",
   "execution_count": null,
   "id": "e336c8e5-2fc3-4163-9796-8bc6b6b3f609",
   "metadata": {},
   "outputs": [],
   "source": [
    "print(device)"
   ]
  },
  {
   "cell_type": "markdown",
   "id": "2d465b8d-7f5f-4092-a91f-430ef72d11bf",
   "metadata": {},
   "source": [
    "## hyperparameters\n"
   ]
  },
  {
   "cell_type": "code",
   "execution_count": null,
   "id": "2cc3c581-6cf1-4a65-a557-bc32a5c8c6bb",
   "metadata": {},
   "outputs": [],
   "source": [
    "28*28"
   ]
  },
  {
   "cell_type": "code",
   "execution_count": 3,
   "id": "6c8fddb4-7649-4cb9-a0a8-6a47610d54b6",
   "metadata": {},
   "outputs": [],
   "source": [
    "input_size = 784 ## input image is 28*28 grayscale 1 channel\n",
    "hidden_size = 100\n",
    "num_classes = 10 ## digits 0-9\n"
   ]
  },
  {
   "cell_type": "code",
   "execution_count": 4,
   "id": "272d372d-56a3-4e07-99c9-e73ff7962250",
   "metadata": {},
   "outputs": [],
   "source": [
    "num_epochs = 2\n",
    "learning_rate = 0.001\n",
    "batch_size = 100"
   ]
  },
  {
   "cell_type": "markdown",
   "id": "383944a5-8a26-4bee-b8e8-9b86efd06c96",
   "metadata": {},
   "source": [
    "## loading data , use dataset and dataloader\n",
    "\n",
    "### uses MNIST dadtaset in torchvison.datasets, applies ToTensor() transforms"
   ]
  },
  {
   "cell_type": "code",
   "execution_count": 5,
   "id": "fb579472-7636-46c0-a9ae-2ad3285cc16d",
   "metadata": {},
   "outputs": [],
   "source": [
    "train_dataset = torchvision.datasets.MNIST(root='./data/', \n",
    "                                           train=True, transform=transforms.ToTensor(),download=True)"
   ]
  },
  {
   "cell_type": "code",
   "execution_count": 6,
   "id": "582c543a-74d8-458a-8ea1-49ae0939e650",
   "metadata": {},
   "outputs": [],
   "source": [
    "test_dataset = torchvision.datasets.MNIST(root='./data/', \n",
    "                                           train=False, transform=transforms.ToTensor(),download=True)"
   ]
  },
  {
   "cell_type": "code",
   "execution_count": null,
   "id": "f33ef0c2-da77-4bbb-a0eb-10673ca92ece",
   "metadata": {},
   "outputs": [],
   "source": [
    "len(train_dataset)"
   ]
  },
  {
   "cell_type": "code",
   "execution_count": null,
   "id": "4681f38a-6b21-4ab4-8a8e-62a7bb7cc33e",
   "metadata": {},
   "outputs": [],
   "source": [
    "len(test_dataset)"
   ]
  },
  {
   "cell_type": "code",
   "execution_count": null,
   "id": "b38b3dfa-6248-4cec-98da-868509469518",
   "metadata": {},
   "outputs": [],
   "source": [
    "train_dataset[0][0].shape"
   ]
  },
  {
   "cell_type": "code",
   "execution_count": 7,
   "id": "e6c65f47-0b3c-492c-b876-6595987910f5",
   "metadata": {},
   "outputs": [],
   "source": [
    "train_loader = torch.utils.data.DataLoader(dataset=train_dataset, batch_size=batch_size, shuffle=True)"
   ]
  },
  {
   "cell_type": "code",
   "execution_count": null,
   "id": "47076511-bfdf-478e-828f-d8c182b3c517",
   "metadata": {},
   "outputs": [],
   "source": [
    "len(train_loader) ## 600 because 60000 samples / 100 batch size = 600 steps per epoch"
   ]
  },
  {
   "cell_type": "code",
   "execution_count": 8,
   "id": "158441ef-f32d-4916-b648-3e07c2efba61",
   "metadata": {},
   "outputs": [],
   "source": [
    "test_loader = torch.utils.data.DataLoader(dataset=test_dataset, batch_size=batch_size, shuffle=False)"
   ]
  },
  {
   "cell_type": "code",
   "execution_count": 9,
   "id": "1355ba83-0cec-472d-a4da-87929e69eb31",
   "metadata": {},
   "outputs": [],
   "source": [
    "examples = iter(train_loader)\n",
    "samples, labels = next(examples)"
   ]
  },
  {
   "cell_type": "code",
   "execution_count": null,
   "id": "18ff668e-c300-4406-a7f7-54d12e23d479",
   "metadata": {},
   "outputs": [],
   "source": [
    "samples.shape ## 100 samples , 1 channel, 28 * 28"
   ]
  },
  {
   "cell_type": "code",
   "execution_count": null,
   "id": "5585f8aa-6d3b-43fc-aae3-75b615c3569f",
   "metadata": {},
   "outputs": [],
   "source": [
    "labels.shape"
   ]
  },
  {
   "cell_type": "code",
   "execution_count": null,
   "id": "78bd401e-7081-441b-b6ff-f54ce8deba89",
   "metadata": {},
   "outputs": [],
   "source": [
    "type(samples[0][0])"
   ]
  },
  {
   "cell_type": "markdown",
   "id": "7664588c-754d-466c-92ea-b877939f3db8",
   "metadata": {},
   "source": [
    "## lets plot the first 6 samples"
   ]
  },
  {
   "cell_type": "code",
   "execution_count": 10,
   "id": "7bac7915-c75d-4cda-8a49-ad9f02d9b11c",
   "metadata": {},
   "outputs": [
    {
     "data": {
      "image/png": "[encoded data removed]",
      "text/plain": [
       "<Figure size 640x480 with 6 Axes>"
      ]
     },
     "metadata": {},
     "output_type": "display_data"
    }
   ],
   "source": [
    "for i in range(0, 6):\n",
    "    plt.subplot(2,3,i+1)\n",
    "    plt.imshow(samples[i][0], cmap='gray') ## first channel - show in gray color\n",
    "    \n",
    "plt.show()\n",
    "    "
   ]
  },
  {
   "cell_type": "markdown",
   "id": "55c04b01-a408-4954-a8a9-c5567a080c5d",
   "metadata": {},
   "source": [
    "## Define the Model"
   ]
  },
  {
   "cell_type": "code",
   "execution_count": 11,
   "id": "b8ae303c-7ed0-4308-b564-e6d3a948c731",
   "metadata": {},
   "outputs": [],
   "source": [
    "class NeuralNet(nn.Module):\n",
    "    \n",
    "    def __init__(self, input_size, hidden_size, num_classes):\n",
    "        super(NeuralNet, self).__init__()\n",
    "        \n",
    "        ## first input to hidden layer\n",
    "        self.lin1 = nn.Linear(input_size, hidden_size)\n",
    "        self.relu = nn.ReLU()\n",
    "        \n",
    "        ## second layer - hidden layer to output\n",
    "        self.lin2 = nn.Linear(hidden_size, num_classes)\n",
    "        \n",
    "    def forward(self, x):\n",
    "        \n",
    "        out = self.lin1(x)\n",
    "        out = self.relu(out)\n",
    "        out = self.lin2(out) ## This gives num_classes output logits. Since we are going to use nn.CrossEntropy, no need for softmax, that is internally applied\n",
    "        return out"
   ]
  },
  {
   "cell_type": "code",
   "execution_count": 12,
   "id": "4055588c-aaf6-469f-b4f8-463e29fee52b",
   "metadata": {},
   "outputs": [],
   "source": [
    "model = NeuralNet(input_size, hidden_size, num_classes).to(device)"
   ]
  },
  {
   "cell_type": "markdown",
   "id": "f4884221-5948-4e94-8ff7-fdbb362c3b21",
   "metadata": {},
   "source": [
    "## Loss and optimizer"
   ]
  },
  {
   "cell_type": "code",
   "execution_count": 13,
   "id": "ca368247-e397-483e-9b02-2df62b354120",
   "metadata": {},
   "outputs": [],
   "source": [
    "criterion = nn.CrossEntropyLoss()\n",
    "optimizer = torch.optim.Adam(model.parameters(), lr=learning_rate)"
   ]
  },
  {
   "cell_type": "code",
   "execution_count": 14,
   "id": "f7383ab0-4ade-4722-9791-a7b84133f474",
   "metadata": {},
   "outputs": [
    {
     "data": {
      "text/plain": [
       "torch.nn.modules.loss.CrossEntropyLoss"
      ]
     },
     "execution_count": 14,
     "metadata": {},
     "output_type": "execute_result"
    }
   ],
   "source": [
    "type(criterion)"
   ]
  },
  {
   "cell_type": "markdown",
   "id": "271cb150-749c-4c47-ac68-568c83715bad",
   "metadata": {},
   "source": [
    "## Training loop"
   ]
  },
  {
   "cell_type": "code",
   "execution_count": 15,
   "id": "591e5949-9768-4101-b537-4e3d8dcb1a5b",
   "metadata": {},
   "outputs": [],
   "source": [
    "n_total_steps_per_epoch = len(train_loader)  ## no of steps / epoch (total no of samples/batch size)"
   ]
  },
  {
   "cell_type": "code",
   "execution_count": 16,
   "id": "1e8bb97f-6ac9-47b1-b4c3-f1fe8bf85c6c",
   "metadata": {},
   "outputs": [
    {
     "name": "stdout",
     "output_type": "stream",
     "text": [
      "epoch : 1/2, step : 99.00166666666667, loss : 0.5357 \n",
      "epoch : 1/2, step : 199.00166666666667, loss : 0.4039 \n",
      "epoch : 1/2, step : 299.00166666666667, loss : 0.2170 \n",
      "epoch : 1/2, step : 399.00166666666667, loss : 0.3355 \n",
      "epoch : 1/2, step : 499.00166666666667, loss : 0.1513 \n",
      "epoch : 1/2, step : 599.0016666666667, loss : 0.1614 \n",
      "epoch : 2/2, step : 99.00166666666667, loss : 0.2808 \n",
      "epoch : 2/2, step : 199.00166666666667, loss : 0.1925 \n",
      "epoch : 2/2, step : 299.00166666666667, loss : 0.2371 \n",
      "epoch : 2/2, step : 399.00166666666667, loss : 0.2002 \n",
      "epoch : 2/2, step : 499.00166666666667, loss : 0.1592 \n",
      "epoch : 2/2, step : 599.0016666666667, loss : 0.1464 \n"
     ]
    }
   ],
   "source": [
    "for epoch in range(num_epochs):\n",
    "    for i , (images, labels) in enumerate(train_loader):\n",
    "        ## images need to be reshaped from n_samples,1,28,28 to n_samples, 784\n",
    "        images = images.reshape(-1, 28*28).to(device)\n",
    "        labels = labels.to(device)\n",
    "        \n",
    "        ## forward\n",
    "        outputs = model(images)\n",
    "        loss = criterion(outputs, labels)\n",
    "        \n",
    "        ## backward\n",
    "        loss.backward()\n",
    "        optimizer.step()\n",
    "        optimizer.zero_grad()\n",
    "        \n",
    "        ##print\n",
    "        if (i+1)%100==0:\n",
    "            print(f'epoch : {epoch + 1}/{num_epochs}, step : {i+1/n_total_steps_per_epoch}, loss : {loss.item():.4f} ')\n",
    "        "
   ]
  },
  {
   "cell_type": "markdown",
   "id": "550e2989-9161-48a1-b3d8-f9509df62b92",
   "metadata": {},
   "source": [
    "## testing"
   ]
  },
  {
   "cell_type": "code",
   "execution_count": null,
   "id": "f8f39de1-448d-4a52-8fff-0de53aeabae2",
   "metadata": {},
   "outputs": [],
   "source": [
    "with torch.no_grad():\n",
    "    n_samples = 0\n",
    "    n_correct = 0\n",
    "    for images, labels in test_loader:\n",
    "        images = images.reshape(-1, 28*28).to(device)\n",
    "        labels = labels.to(device)\n",
    "    output = model(images)\n",
    "    _, predictions = torch.max(output,1) ## predictions is the index/label\n",
    "    \n",
    "    n_samples = n_samples + labels.shape[0]\n",
    "    n_correct = n_correct + (predictions==labels).sum().item()\n",
    "    \n",
    "    acc = 100.0 * n_correct/n_samples\n",
    "    \n",
    "    print(f'accuracy = {acc}')\n",
    "    \n",
    "    "
   ]
  },
  {
   "cell_type": "code",
   "execution_count": null,
   "id": "b3c29174-315f-44df-81af-fcb3c06cdaee",
   "metadata": {},
   "outputs": [],
   "source": []
  }
 ],
 "metadata": {
  "kernelspec": {
   "display_name": "Python 3 (ipykernel)",
   "language": "python",
   "name": "python3"
  },
  "language_info": {
   "codemirror_mode": {
    "name": "ipython",
    "version": 3
   },
   "file_extension": ".py",
   "mimetype": "text/x-python",
   "name": "python",
   "nbconvert_exporter": "python",
   "pygments_lexer": "ipython3",
   "version": "3.9.13"
  }
 },
 "nbformat": 4,
 "nbformat_minor": 5
}
