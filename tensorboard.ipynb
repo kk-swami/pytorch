{
 "cells": [
  {
   "cell_type": "markdown",
   "id": "5b34d251-209e-4019-bdc8-b30cb864e54b",
   "metadata": {},
   "source": [
    "Here we see how to use tensorboard using the same MLP example we used earlier\n",
    "\n"
   ]
  },
  {
   "cell_type": "code",
   "execution_count": 1,
   "id": "0a005777-b80c-44cf-94b3-c1c8f981f0c1",
   "metadata": {},
   "outputs": [],
   "source": [
    "import torch\n",
    "import torch.nn as nn\n",
    "import torchvision\n",
    "import matplotlib.pyplot as plt\n",
    "import torchvision.transforms as transforms\n",
    "import torch.nn.functional as F\n",
    "\n",
    "from torch.utils.tensorboard import SummaryWriter"
   ]
  },
  {
   "cell_type": "code",
   "execution_count": 2,
   "id": "26066a65-5fd9-4822-a11a-5f2f31e5118e",
   "metadata": {},
   "outputs": [],
   "source": [
    "writer = SummaryWriter(\"runs/mnist\")"
   ]
  },
  {
   "cell_type": "raw",
   "id": "69fab44f-9c51-4c42-91c5-1665ea5ce552",
   "metadata": {},
   "source": [
    "How to Launch tensorboard :\n",
    "\n",
    "1) To launch tensorboard, first make sure tensorboard is installed (pip install tensorboard)\n",
    "\n",
    "2) Then on command line , do \"tensorboard --logdir=runs\"\n",
    "logdir is to make sure runs are getting logged to the right folder, so tensorboard knows where to look to display\n",
    "\n"
   ]
  },
  {
   "cell_type": "code",
   "execution_count": 3,
   "id": "cc70a476-ed87-4aad-9338-faeda31622e3",
   "metadata": {},
   "outputs": [],
   "source": [
    "device = torch.device('cuda' if torch.cuda.is_available() else 'cpu')"
   ]
  },
  {
   "cell_type": "code",
   "execution_count": 4,
   "id": "94584840-cbcf-4764-b0e1-b12b9e0aa37e",
   "metadata": {},
   "outputs": [],
   "source": [
    "input_size = 784 ## input image is 28*28 grayscale 1 channel\n",
    "hidden_size = 100\n",
    "num_classes = 10 ## digits 0-9\n"
   ]
  },
  {
   "cell_type": "code",
   "execution_count": 5,
   "id": "6ae34d81-de52-407e-9127-23dbedc58bf6",
   "metadata": {},
   "outputs": [],
   "source": [
    "num_epochs = 2\n",
    "learning_rate = 0.001\n",
    "batch_size = 100"
   ]
  },
  {
   "cell_type": "markdown",
   "id": "4173ce26-66d1-4e47-92ac-c13b6a42e9a2",
   "metadata": {},
   "source": [
    "## loading data , use dataset and dataloader\n",
    "\n",
    "### uses MNIST dadtaset in torchvison.datasets, applies ToTensor() transforms"
   ]
  },
  {
   "cell_type": "code",
   "execution_count": 6,
   "id": "98312703-86f2-43c9-88b7-607ce9b8109a",
   "metadata": {},
   "outputs": [],
   "source": [
    "train_dataset = torchvision.datasets.MNIST(root='./data/', \n",
    "                                           train=True, transform=transforms.ToTensor(),download=True)"
   ]
  },
  {
   "cell_type": "code",
   "execution_count": 7,
   "id": "9e4ba086-8a11-4d3b-8d1c-af5572398122",
   "metadata": {},
   "outputs": [],
   "source": [
    "test_dataset = torchvision.datasets.MNIST(root='./data/', \n",
    "                                           train=False, transform=transforms.ToTensor(),download=True)"
   ]
  },
  {
   "cell_type": "code",
   "execution_count": 8,
   "id": "b479cb39-7f8b-4bf8-8e19-7423671983a6",
   "metadata": {},
   "outputs": [],
   "source": [
    "train_loader = torch.utils.data.DataLoader(dataset=train_dataset, batch_size=batch_size, shuffle=True)"
   ]
  },
  {
   "cell_type": "code",
   "execution_count": 9,
   "id": "b797d3e2-c6c2-48e4-81b3-d6c57da72224",
   "metadata": {},
   "outputs": [],
   "source": [
    "test_loader = torch.utils.data.DataLoader(dataset=test_dataset, batch_size=batch_size, shuffle=False)"
   ]
  },
  {
   "cell_type": "markdown",
   "id": "a29d71c9-a57a-44f6-8422-53356dfc241d",
   "metadata": {},
   "source": [
    "## lets plot the first 6 samples"
   ]
  },
  {
   "cell_type": "code",
   "execution_count": 10,
   "id": "ceba7a8f-8d53-4e96-9cb4-8948e62a6f3f",
   "metadata": {},
   "outputs": [],
   "source": [
    "examples = iter(train_loader)\n",
    "samples, labels = next(examples)"
   ]
  },
  {
   "cell_type": "code",
   "execution_count": null,
   "id": "138575a6-207d-46b3-9733-c21310320bf5",
   "metadata": {},
   "outputs": [],
   "source": [
    "samples.shape"
   ]
  },
  {
   "cell_type": "code",
   "execution_count": 11,
   "id": "73ebd2c3-84d3-4bbc-b63a-97b7ea4bc263",
   "metadata": {},
   "outputs": [
    {
     "data": {
      "image/png": "[encoded data removed]",
      "text/plain": [
       "<Figure size 640x480 with 6 Axes>"
      ]
     },
     "metadata": {},
     "output_type": "display_data"
    }
   ],
   "source": [
    "for i in range(0, 6):\n",
    "    plt.subplot(2,3,i+1)\n",
    "    plt.imshow(samples[i][0], cmap='gray') ## first channel - show in gray color\n",
    "    \n",
    "##plt.show()\n",
    "img_grid = torchvision.utils.make_grid(samples)\n",
    "writer.add_image('mnist_images', img_grid)\n",
    "writer.close()\n",
    "    "
   ]
  },
  {
   "cell_type": "markdown",
   "id": "7562e05d-caf0-4fcb-b08e-328ec838b251",
   "metadata": {},
   "source": [
    "## To view images in tensorboard, go to localhost:6006 where tensorboard is running and check it out"
   ]
  },
  {
   "cell_type": "code",
   "execution_count": null,
   "id": "9fcf3023-a752-4ca0-8765-0adf29b8a028",
   "metadata": {},
   "outputs": [],
   "source": []
  },
  {
   "cell_type": "markdown",
   "id": "f80f576a-e019-4eb6-bc2d-8b6d03895e87",
   "metadata": {},
   "source": [
    "## Define the model"
   ]
  },
  {
   "cell_type": "code",
   "execution_count": 12,
   "id": "dd315cde-13ce-433d-9ba5-9d226825e4e4",
   "metadata": {},
   "outputs": [],
   "source": [
    "class NeuralNet(nn.Module):\n",
    "    \n",
    "    def __init__(self, input_size, hidden_size, num_classes):\n",
    "        super(NeuralNet, self).__init__()\n",
    "        \n",
    "        ## first input to hidden layer\n",
    "        self.lin1 = nn.Linear(input_size, hidden_size)\n",
    "        self.relu = nn.ReLU()\n",
    "        \n",
    "        ## second layer - hidden layer to output\n",
    "        self.lin2 = nn.Linear(hidden_size, num_classes)\n",
    "        \n",
    "    def forward(self, x):\n",
    "        \n",
    "        out = self.lin1(x)\n",
    "        out = self.relu(out)\n",
    "        out = self.lin2(out) ## This gives num_classes output logits. Since we are going to use nn.CrossEntropy, no need for softmax, that is internally applied\n",
    "        return out"
   ]
  },
  {
   "cell_type": "code",
   "execution_count": 13,
   "id": "cf0ec31d-5cb7-4860-b7df-aaab12587745",
   "metadata": {},
   "outputs": [],
   "source": [
    "model = NeuralNet(input_size, hidden_size, num_classes).to(device)"
   ]
  },
  {
   "cell_type": "markdown",
   "id": "0df73e90-bc70-4997-b556-abd6f84d5912",
   "metadata": {},
   "source": [
    "## Loss and optimizer"
   ]
  },
  {
   "cell_type": "code",
   "execution_count": 14,
   "id": "378adc11-cecf-4d81-a4a9-e0640ff15c15",
   "metadata": {},
   "outputs": [],
   "source": [
    "criterion = nn.CrossEntropyLoss()\n",
    "optimizer = torch.optim.Adam(model.parameters(), lr=learning_rate)"
   ]
  },
  {
   "cell_type": "markdown",
   "id": "52b792f3-6730-4f8d-988d-ff3cc2f3bb1f",
   "metadata": {},
   "source": [
    "## log model onto tensorboard to view"
   ]
  },
  {
   "cell_type": "markdown",
   "id": "69ac23b7-1e6f-4b99-a816-8c0d223c7cfb",
   "metadata": {},
   "source": [
    "## To view model in tensorboard, go to localhost:6006 where tensorboard is running and check it out. go to graphs"
   ]
  },
  {
   "cell_type": "code",
   "execution_count": null,
   "id": "5e951b03-1f11-447a-9491-7db2ffabc3d7",
   "metadata": {},
   "outputs": [],
   "source": [
    "samples.shape"
   ]
  },
  {
   "cell_type": "code",
   "execution_count": 15,
   "id": "30fa3170-43fa-481e-b41b-3009d3de4fac",
   "metadata": {},
   "outputs": [],
   "source": [
    "writer.add_graph(model, samples.reshape(-1, 28*28)) ## reshape same way you do in training code\n",
    "writer.close()"
   ]
  },
  {
   "cell_type": "markdown",
   "id": "e250d1f2-4553-445b-9e71-c41a03f4b6e0",
   "metadata": {},
   "source": [
    "## Training loop"
   ]
  },
  {
   "cell_type": "code",
   "execution_count": 16,
   "id": "c3c8f3eb-4126-4268-9d07-d68274a6a53d",
   "metadata": {},
   "outputs": [],
   "source": [
    "n_total_steps_per_epoch = len(train_loader)  ## no of steps / epoch (total no of samples/batch size)"
   ]
  },
  {
   "cell_type": "code",
   "execution_count": null,
   "id": "ff45fbae-959c-4d5b-bf42-849e6fa8a5ce",
   "metadata": {},
   "outputs": [],
   "source": [
    "n_total_steps_per_epoch"
   ]
  },
  {
   "cell_type": "code",
   "execution_count": 17,
   "id": "0e5e1cea-ac41-404d-b488-0f267925d93e",
   "metadata": {},
   "outputs": [],
   "source": [
    "running_loss, running_correct = 0.0, 0"
   ]
  },
  {
   "cell_type": "code",
   "execution_count": 18,
   "id": "a3ec8762-2ed1-4eef-b1a5-efe786e957f1",
   "metadata": {},
   "outputs": [
    {
     "name": "stdout",
     "output_type": "stream",
     "text": [
      "epoch : 1/2, step : 99.00166666666667, loss : 0.4431 \n",
      "epoch : 1/2, step : 199.00166666666667, loss : 0.4547 \n",
      "epoch : 1/2, step : 299.00166666666667, loss : 0.3909 \n",
      "epoch : 1/2, step : 399.00166666666667, loss : 0.2193 \n",
      "epoch : 1/2, step : 499.00166666666667, loss : 0.3497 \n",
      "epoch : 1/2, step : 599.0016666666667, loss : 0.2417 \n",
      "epoch : 2/2, step : 99.00166666666667, loss : 0.1674 \n",
      "epoch : 2/2, step : 199.00166666666667, loss : 0.1965 \n",
      "epoch : 2/2, step : 299.00166666666667, loss : 0.1439 \n",
      "epoch : 2/2, step : 399.00166666666667, loss : 0.1575 \n",
      "epoch : 2/2, step : 499.00166666666667, loss : 0.1673 \n",
      "epoch : 2/2, step : 599.0016666666667, loss : 0.1473 \n"
     ]
    }
   ],
   "source": [
    "for epoch in range(num_epochs):\n",
    "    for i , (images, labels) in enumerate(train_loader):\n",
    "        ## images need to be reshaped from n_samples,1,28,28 to n_samples, 784\n",
    "        images = images.reshape(-1, 28*28).to(device)\n",
    "        labels = labels.to(device)\n",
    "        \n",
    "        ## forward\n",
    "        outputs = model(images)\n",
    "        loss = criterion(outputs, labels)\n",
    "        \n",
    "        ## backward\n",
    "        loss.backward()\n",
    "        optimizer.step()\n",
    "        optimizer.zero_grad()\n",
    "        \n",
    "        running_loss = running_loss + loss.item()\n",
    "        _, predicted = torch.max(outputs.data, 1 ) ## Why outputs.data instead of outputs ?\n",
    "        running_correct = running_correct + (predicted==labels).sum().item()\n",
    "        \n",
    "        \n",
    "        \n",
    "        ##print\n",
    "        if (i+1)%100==0:\n",
    "            print(f'epoch : {epoch + 1}/{num_epochs}, step : {i+1/n_total_steps_per_epoch}, loss : {loss.item():.4f} ')\n",
    "            writer.add_scalar('training_loss', running_loss/100, epoch*n_total_steps_per_epoch + i)\n",
    "            writer.add_scalar('accuracy', running_correct/100, epoch*n_total_steps_per_epoch + i)\n",
    "            running_loss = 0.0\n",
    "            running_correct = 0 ## resetting to 0 once 100 steps are done\n",
    "            ## we report average loss and correct per 100 steps\n",
    "            \n",
    "\n",
    "        "
   ]
  },
  {
   "cell_type": "markdown",
   "id": "ff036884-f6f4-4143-b8ca-7c51e685d37f",
   "metadata": {},
   "source": [
    "## To view loss and accuracy in tensorboard, go to localhost:6006 where tensorboard is running and check it out. go to scalar"
   ]
  },
  {
   "cell_type": "markdown",
   "id": "92453d01-fb00-49db-980b-36aeea83c0e2",
   "metadata": {},
   "source": [
    "## testing"
   ]
  },
  {
   "cell_type": "code",
   "execution_count": 20,
   "id": "5408b689-80c0-4a6b-959e-f57c400960b9",
   "metadata": {},
   "outputs": [
    {
     "name": "stdout",
     "output_type": "stream",
     "text": [
      "accuracy = 95.22\n"
     ]
    }
   ],
   "source": [
    "labels_all = []\n",
    "preds = []\n",
    "with torch.no_grad():\n",
    "    n_samples = 0\n",
    "    n_correct = 0\n",
    "    for images, labels in test_loader:\n",
    "        images = images.reshape(-1, 28*28).to(device)\n",
    "        labels = labels.to(device)\n",
    "        outputs = model(images)\n",
    "        _, predictions = torch.max(outputs,1) ## predictions is the index/label\n",
    "        n_samples = n_samples + labels.shape[0]\n",
    "        n_correct = n_correct + (predictions==labels).sum().item()\n",
    "        \n",
    "        class_predictions = [F.softmax(output, dim=0) for output in outputs]\n",
    "        preds.append(class_predictions)\n",
    "        labels_all.append(labels)\n",
    "    \n",
    "    \n",
    "    \n",
    "    labels_all = torch.cat(labels_all) ##  10000*1 shape concatenates all elements of list along 1 dim into 1-D tensor\n",
    "    preds = torch.cat([torch.stack(batch) for batch in preds]) ## 10000*10 shape\n",
    "    \n",
    "    \n",
    "    \n",
    "    \n",
    "    acc = 100.0 * n_correct/n_samples\n",
    "    \n",
    "    print(f'accuracy = {acc}')\n",
    "    classes = range(10) ## class lavels from 0 to 9\n",
    "    \n",
    "    for i in classes:\n",
    "        labels_i = labels_all == i\n",
    "        preds_i = preds[:,i] ## probabilities of class i\n",
    "        writer.add_pr_curve(str(i), labels_i, preds_i, global_step=0)\n",
    "        \n",
    "    \n",
    "    "
   ]
  },
  {
   "cell_type": "code",
   "execution_count": 21,
   "id": "8507003d-7953-4694-84c3-33c4f5b8c983",
   "metadata": {},
   "outputs": [
    {
     "data": {
      "text/plain": [
       "tensor([[5.4466e-05, 1.0275e-07, 1.9644e-03,  ..., 9.9576e-01, 1.3304e-05,\n",
       "         3.5557e-05],\n",
       "        [1.8170e-04, 1.9332e-04, 9.8473e-01,  ..., 1.4430e-10, 2.2990e-04,\n",
       "         1.1196e-09],\n",
       "        [4.2302e-05, 9.8178e-01, 7.0914e-03,  ..., 2.9517e-03, 3.9346e-03,\n",
       "         1.4371e-04],\n",
       "        ...,\n",
       "        [2.0584e-07, 4.4061e-08, 1.5111e-06,  ..., 1.0396e-04, 1.1346e-03,\n",
       "         3.7742e-03],\n",
       "        [2.7851e-05, 1.4592e-06, 2.7937e-06,  ..., 2.2053e-07, 3.1732e-03,\n",
       "         2.2717e-07],\n",
       "        [3.2110e-05, 6.7511e-09, 2.9563e-05,  ..., 9.4348e-09, 6.9107e-08,\n",
       "         2.3601e-08]])"
      ]
     },
     "execution_count": 21,
     "metadata": {},
     "output_type": "execute_result"
    }
   ],
   "source": [
    "preds"
   ]
  },
  {
   "cell_type": "markdown",
   "id": "14d9b134-c18f-4318-a087-5bc47bd1b9f6",
   "metadata": {},
   "source": [
    "## To view PR curve in tensorboard, go to localhost:6006 where tensorboard is running and check it out. go to pr_curves"
   ]
  },
  {
   "cell_type": "markdown",
   "id": "66708515-af58-4604-bd6f-540fc20c9d3a",
   "metadata": {},
   "source": [
    "## References"
   ]
  },
  {
   "cell_type": "markdown",
   "id": "de367905-05ff-46b8-a9b6-21186dd4e346",
   "metadata": {},
   "source": [
    "1) https://www.youtube.com/watch?v=VJW9wU-1n18&list=PLqnslRFeH2UrcDBWF5mfPGpqQDSta6VK4&index=16"
   ]
  }
 ],
 "metadata": {
  "kernelspec": {
   "display_name": "Python 3 (ipykernel)",
   "language": "python",
   "name": "python3"
  },
  "language_info": {
   "codemirror_mode": {
    "name": "ipython",
    "version": 3
   },
   "file_extension": ".py",
   "mimetype": "text/x-python",
   "name": "python",
   "nbconvert_exporter": "python",
   "pygments_lexer": "ipython3",
   "version": "3.9.13"
  }
 },
 "nbformat": 4,
 "nbformat_minor": 5
}
