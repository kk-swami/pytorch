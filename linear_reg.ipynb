{
 "cells": [
  {
   "cell_type": "markdown",
   "id": "92fae782-b1f9-42bb-bb02-90fb00c952ce",
   "metadata": {},
   "source": [
    "## Implement linear regression from scratch using torch\n",
    "## 3 steps for any model\n",
    "1) Design a model (input size, output size, forward pass)\n",
    "2) Construct loss and optimizer\n",
    "3) Implement actual training\n",
    "    1) forward pass - compute prediction and loss\n",
    "    2) backward pass - compute gradients wrt loss\n",
    "    3) update weights"
   ]
  },
  {
   "cell_type": "code",
   "execution_count": 1,
   "id": "9605da4e-e1af-4ea1-a752-5caa3b6266c5",
   "metadata": {},
   "outputs": [],
   "source": [
    "import torch\n",
    "import torch.nn as nn\n",
    "import numpy as np\n",
    "from sklearn import datasets\n",
    "import matplotlib.pyplot as plt\n",
    "\n"
   ]
  },
  {
   "cell_type": "code",
   "execution_count": 2,
   "id": "8ee49e69-a11a-43fd-bc43-20cbccbd50fa",
   "metadata": {},
   "outputs": [],
   "source": [
    "## prepare data. create a regression dataset using make_regression"
   ]
  },
  {
   "cell_type": "code",
   "execution_count": 3,
   "id": "3880c973-7372-4d5c-84a4-3c9cf0090dc3",
   "metadata": {},
   "outputs": [],
   "source": [
    "X_numpy, y_numpy = datasets.make_regression(n_samples = 100, n_features = 1, noise = 20, random_state=1)"
   ]
  },
  {
   "cell_type": "code",
   "execution_count": 5,
   "id": "e8cf097c-b1c8-4d1e-844d-20d6b820be58",
   "metadata": {},
   "outputs": [
    {
     "name": "stdout",
     "output_type": "stream",
     "text": [
      "(100, 1) (100,)\n"
     ]
    }
   ],
   "source": [
    "print(X_numpy.shape, y_numpy.shape)\n"
   ]
  },
  {
   "cell_type": "code",
   "execution_count": 6,
   "id": "44378730-c40b-49c0-a9b5-142ff5317da2",
   "metadata": {},
   "outputs": [],
   "source": [
    "## First have to convert numpy arrays into pytorch tensors\n",
    "## cast double to float 32"
   ]
  },
  {
   "cell_type": "code",
   "execution_count": 7,
   "id": "dd6e339d-8a7c-4fab-b6c2-e3bbdf0c6b58",
   "metadata": {},
   "outputs": [],
   "source": [
    "X = torch.from_numpy(X_numpy.astype(np.float32))\n",
    "y = torch.from_numpy(y_numpy.astype(np.float32))"
   ]
  },
  {
   "cell_type": "code",
   "execution_count": 9,
   "id": "df0c976b-ef2d-4806-900e-34bb05acd2ad",
   "metadata": {},
   "outputs": [
    {
     "data": {
      "text/plain": [
       "torch.Size([100, 1])"
      ]
     },
     "execution_count": 9,
     "metadata": {},
     "output_type": "execute_result"
    }
   ],
   "source": [
    "X.shape"
   ]
  },
  {
   "cell_type": "code",
   "execution_count": 10,
   "id": "c7b80ec8-9aa5-479b-94f0-b5c8491579af",
   "metadata": {},
   "outputs": [
    {
     "data": {
      "text/plain": [
       "torch.Size([100])"
      ]
     },
     "execution_count": 10,
     "metadata": {},
     "output_type": "execute_result"
    }
   ],
   "source": [
    "y.shape"
   ]
  },
  {
   "cell_type": "code",
   "execution_count": 11,
   "id": "8eac80a3-bd13-47a4-9e54-c6b9d7e688a0",
   "metadata": {},
   "outputs": [],
   "source": [
    "## have to convert y to shape 100,1 instead of 1"
   ]
  },
  {
   "cell_type": "code",
   "execution_count": 12,
   "id": "ec8bb8c6-0840-49b2-a6be-c127946657aa",
   "metadata": {},
   "outputs": [],
   "source": [
    "y = y.view(y.shape[0], 1)"
   ]
  },
  {
   "cell_type": "code",
   "execution_count": 13,
   "id": "9a7e34db-d47a-4b35-a24d-05db14340115",
   "metadata": {},
   "outputs": [
    {
     "data": {
      "text/plain": [
       "torch.Size([100, 1])"
      ]
     },
     "execution_count": 13,
     "metadata": {},
     "output_type": "execute_result"
    }
   ],
   "source": [
    "y.shape"
   ]
  },
  {
   "cell_type": "code",
   "execution_count": 14,
   "id": "b9e6fe47-4b23-462f-b85c-0e8c0802a099",
   "metadata": {},
   "outputs": [],
   "source": [
    "## get number of samples and no of features"
   ]
  },
  {
   "cell_type": "code",
   "execution_count": 15,
   "id": "8e941156-5dcd-4073-ada7-02f2255a3641",
   "metadata": {},
   "outputs": [],
   "source": [
    "n_samples, n_feature = X.shape"
   ]
  },
  {
   "cell_type": "code",
   "execution_count": 16,
   "id": "6a2fea1a-c520-4c77-809f-aba92cf80fc4",
   "metadata": {},
   "outputs": [],
   "source": [
    "## Step 1:  design a model"
   ]
  },
  {
   "cell_type": "code",
   "execution_count": 22,
   "id": "424f08d0-2519-457b-8598-c6ade34a4adb",
   "metadata": {},
   "outputs": [],
   "source": [
    "input_size = n_feature\n",
    "output_size = y.shape[1]\n",
    "model = nn.Linear(input_size, output_size )"
   ]
  },
  {
   "cell_type": "code",
   "execution_count": 18,
   "id": "a900cf86-51df-45ca-b37c-9e02ead895dc",
   "metadata": {},
   "outputs": [],
   "source": [
    "## Construct loss and optimizer"
   ]
  },
  {
   "cell_type": "code",
   "execution_count": 24,
   "id": "16fa109a-b173-4551-b431-8d24788fa631",
   "metadata": {},
   "outputs": [],
   "source": [
    "learning_rate = 0.01\n",
    "criterion = nn.MSELoss()\n",
    "optimizer = torch.optim.SGD(model.parameters(), lr = learning_rate)"
   ]
  },
  {
   "cell_type": "code",
   "execution_count": 19,
   "id": "2ff4ff92-335d-425b-8fdc-d2d9caa6626b",
   "metadata": {},
   "outputs": [],
   "source": [
    "## training loop"
   ]
  },
  {
   "cell_type": "code",
   "execution_count": 25,
   "id": "f4346a4b-63a2-4a73-8acf-50ae4f2cbeea",
   "metadata": {},
   "outputs": [
    {
     "name": "stdout",
     "output_type": "stream",
     "text": [
      "epoch : 10, loss : 4344.7778\n",
      "epoch : 20, loss : 3244.5513\n",
      "epoch : 30, loss : 2447.7939\n",
      "epoch : 40, loss : 1870.2225\n",
      "epoch : 50, loss : 1451.1503\n",
      "epoch : 60, loss : 1146.8210\n",
      "epoch : 70, loss : 925.6431\n",
      "epoch : 80, loss : 764.7805\n",
      "epoch : 90, loss : 647.7068\n",
      "epoch : 100, loss : 562.4500\n"
     ]
    },
    {
     "data": {
      "image/png": "[encoded data removed]",
      "text/plain": [
       "<Figure size 640x480 with 1 Axes>"
      ]
     },
     "metadata": {},
     "output_type": "display_data"
    }
   ],
   "source": [
    "num_epochs = 100\n",
    "for epoch in range(num_epochs):\n",
    "    # forward pass and loss\n",
    "    y_predicted = model(X)\n",
    "    loss = criterion(y_predicted, y)\n",
    "    \n",
    "    ## backward pass - updating gradients\n",
    "    loss.backward() ## computes local gradients\n",
    "    \n",
    "    ## update weights\n",
    "    optimizer.step() ## update weights\n",
    "    \n",
    "    ## zero gradients\n",
    "    optimizer.zero_grad()\n",
    "    \n",
    "    if ((epoch+1)%10)==0:\n",
    "        print(f'epoch : {epoch + 1}, loss : {loss.item():.4f}')\n",
    "        \n",
    "## plot\n",
    "predicted = model(X).detach().numpy() ## necessary to remove gradients\n",
    "plt.plot(X_numpy, y_numpy, 'ro')\n",
    "plt.plot(X_numpy, predicted, 'b')\n",
    "plt.show()\n",
    "\n",
    "\n",
    "\n",
    "\n",
    "    "
   ]
  },
  {
   "cell_type": "markdown",
   "id": "83de055a-c3a7-49ac-abc6-071c0f4366c9",
   "metadata": {},
   "source": [
    "## References"
   ]
  },
  {
   "cell_type": "markdown",
   "id": "7c6dc70d-a521-426e-b8b2-f19cd6e5b821",
   "metadata": {},
   "source": [
    "1) https://www.youtube.com/watch?v=YAJ5XBwlN4o&list=PLqnslRFeH2UrcDBWF5mfPGpqQDSta6VK4&index=7"
   ]
  }
 ],
 "metadata": {
  "kernelspec": {
   "display_name": "Python 3 (ipykernel)",
   "language": "python",
   "name": "python3"
  },
  "language_info": {
   "codemirror_mode": {
    "name": "ipython",
    "version": 3
   },
   "file_extension": ".py",
   "mimetype": "text/x-python",
   "name": "python",
   "nbconvert_exporter": "python",
   "pygments_lexer": "ipython3",
   "version": "3.9.13"
  }
 },
 "nbformat": 4,
 "nbformat_minor": 5
}
